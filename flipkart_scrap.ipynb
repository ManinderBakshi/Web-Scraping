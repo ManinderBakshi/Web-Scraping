{
 "cells": [
  {
   "cell_type": "markdown",
   "metadata": {},
   "source": [
    "# Web Scraping using \"Beautiful Soup\" and \"Request Module\""
   ]
  },
  {
   "cell_type": "markdown",
   "metadata": {},
   "source": [
    "### Scraping Website = Flipkart\n",
    "##### Link - https://www.flipkart.com/search?q=casual%20shirts&otracker=search&otracker1=search&marketplace=FLIPKART&as-show=on&as=off"
   ]
  },
  {
   "cell_type": "markdown",
   "metadata": {},
   "source": [
    "### Let's import All the necessary Packages"
   ]
  },
  {
   "cell_type": "code",
   "execution_count": 1,
   "metadata": {},
   "outputs": [],
   "source": [
    "import pandas as pd\n",
    "import numpy as np\n",
    "from bs4 import BeautifulSoup\n",
    "from urllib.request import urlopen \n",
    "import requests"
   ]
  },
  {
   "cell_type": "markdown",
   "metadata": {},
   "source": [
    "### Now let's request the HTML from the URL"
   ]
  },
  {
   "cell_type": "code",
   "execution_count": 66,
   "metadata": {},
   "outputs": [],
   "source": [
    "headers_std = {\n",
    "'User-Agent': 'Mozilla/5.0 (Windows NT 6.1; WOW64) AppleWebKit/537.36 (KHTML, like Gecko) Chrome/46.0.2490.80 Safari/537.36',\n",
    "'Content-Type': 'text/html',\n",
    "}\n",
    "url = \"https://www.flipkart.com/search?q=casual%20shirts&otracker=search&otracker1=search&marketplace=FLIPKART&as-show=on&as=off\"\n",
    "html = requests.get(url,headers=headers_std).text"
   ]
  },
  {
   "cell_type": "markdown",
   "metadata": {},
   "source": [
    "### Okay, Now we will create an object of Beautiful Soup class and pass the HTML data to the created object"
   ]
  },
  {
   "cell_type": "code",
   "execution_count": 68,
   "metadata": {},
   "outputs": [],
   "source": [
    "soup = BeautifulSoup(html,'lxml')"
   ]
  },
  {
   "cell_type": "markdown",
   "metadata": {},
   "source": [
    "#### After getting an idea of the structure of the webpage , now we will set the variables to the class names of the data we want to scrap"
   ]
  },
  {
   "cell_type": "code",
   "execution_count": 69,
   "metadata": {},
   "outputs": [],
   "source": [
    "product_name_class = \"_2mylT6\"\n",
    "product_brand_class = \"_2B_pmu\"\n",
    "selling_price_class = \"_1vC4OE\" \n",
    "actual_price_class = \"_3auQ3N\"\n",
    "product_link_class = \"_2mylT6\""
   ]
  },
  {
   "cell_type": "markdown",
   "metadata": {},
   "source": [
    "#### Now we will scrap all the required data from the webpage using the Beautiful Soup object"
   ]
  },
  {
   "cell_type": "code",
   "execution_count": 70,
   "metadata": {},
   "outputs": [],
   "source": [
    "product_names = soup.find_all(\"a\", {\"class\":product_name_class})\n",
    "product_brands = soup.find_all(\"div\",{\"class\":product_brand_class})\n",
    "selling_prices = soup.find_all(\"div\",{\"class\":selling_price_class})\n",
    "actual_prices = soup.find_all(\"div\",{\"class\":actual_price_class})\n",
    "product_links = soup.find_all('a',{'class':product_link_class})"
   ]
  },
  {
   "cell_type": "markdown",
   "metadata": {},
   "source": [
    "#### Let us check for any product in our scraped data"
   ]
  },
  {
   "cell_type": "code",
   "execution_count": 75,
   "metadata": {},
   "outputs": [
    {
     "name": "stdout",
     "output_type": "stream",
     "text": [
      "Men Military Camouflage Casual Spread Shirt\n",
      "Highlander\n",
      "₹1,399\n",
      "₹999\n",
      "https://www.flipkart.com/unistreet-men-striped-casual-blue-shirt/p/itmcc38face427ab?pid=SHTFPFHPQAXQTJQF&lid=LSTSHTFPFHPQAXQTJQFFMZWW0&marketplace=FLIPKART&srno=s_1_1&otracker=search&otracker1=search&fm=organic&iid=en_mq1pJDbWU3mGq%2BmyTrKDNBmBazTrHS20zrr3sza50GA1AfP2FO%2Bf%2Bh4NP27hGAsLkBt441QFcj3iDPaU9cnWdA%3D%3D&ssid=0n3tstrqj40000001591428987283&qH=c898b17e35b9f66c\n"
     ]
    }
   ],
   "source": [
    "print(product_names[5].text.strip())\n",
    "print(product_brands[5].text.strip())\n",
    "print(selling_prices[5].text.strip())\n",
    "print(actual_prices[5].text.strip())\n",
    "print( 'https://www.flipkart.com'+product_links[0].get('href').strip())"
   ]
  },
  {
   "cell_type": "markdown",
   "metadata": {},
   "source": [
    "#### Great! \n",
    "#### Before creating the data frames , first let's check the length of all the columns which we have scraped"
   ]
  },
  {
   "cell_type": "code",
   "execution_count": 49,
   "metadata": {},
   "outputs": [
    {
     "name": "stdout",
     "output_type": "stream",
     "text": [
      "40\n",
      "40\n",
      "45\n",
      "38\n",
      "40\n"
     ]
    }
   ],
   "source": [
    "print(len(product_names))\n",
    "print(len(product_brands))\n",
    "print(len(selling_prices))\n",
    "print(len(actual_prices))\n",
    "print(len(product_links))"
   ]
  },
  {
   "cell_type": "markdown",
   "metadata": {},
   "source": [
    "#### Now let's create the dataframes and insert our data into them , for blank entries we will just append None"
   ]
  },
  {
   "cell_type": "code",
   "execution_count": 72,
   "metadata": {},
   "outputs": [],
   "source": [
    "product_names_df = []\n",
    "product_brands_df = []\n",
    "selling_prices_df = []\n",
    "actual_prices_df = []\n",
    "product_links_df = []"
   ]
  },
  {
   "cell_type": "code",
   "execution_count": 73,
   "metadata": {},
   "outputs": [],
   "source": [
    "for i in range(len(selling_prices)):\n",
    "        selling_prices_df.append(selling_prices[i].text.strip())\n",
    "        try:\n",
    "            product_names_df.append(product_names[i].text.strip())\n",
    "        except:\n",
    "            product_names_df.append(None)\n",
    "        try:\n",
    "            product_brands_df.append(product_brands[i].text.strip())\n",
    "        except:\n",
    "            product_brands_df.append(None)\n",
    "        try:\n",
    "            actual_prices_df.append(actual_prices[i].text.strip())\n",
    "        except:\n",
    "            actual_prices_df.append(None)\n",
    "        try:\n",
    "            product_links_df.append('flipkart.com'+product_links[i].get('href').strip())\n",
    "        except:\n",
    "            product_links_df.append(None)\n",
    "        \n",
    "\n"
   ]
  },
  {
   "cell_type": "markdown",
   "metadata": {},
   "source": [
    "#### Let's join these dataframes into a single one"
   ]
  },
  {
   "cell_type": "code",
   "execution_count": 61,
   "metadata": {},
   "outputs": [],
   "source": [
    "df = pd.DataFrame({'product_name':product_names_df,'product_brand':product_brands_df,'actual_price':actual_prices_df,'selling_price':selling_prices_df,'product_link':product_links_df})"
   ]
  },
  {
   "cell_type": "code",
   "execution_count": 62,
   "metadata": {},
   "outputs": [
    {
     "data": {
      "text/plain": [
       "45"
      ]
     },
     "execution_count": 62,
     "metadata": {},
     "output_type": "execute_result"
    }
   ],
   "source": [
    "len(df)"
   ]
  },
  {
   "cell_type": "code",
   "execution_count": 63,
   "metadata": {},
   "outputs": [
    {
     "data": {
      "text/html": [
       "<div>\n",
       "<style scoped>\n",
       "    .dataframe tbody tr th:only-of-type {\n",
       "        vertical-align: middle;\n",
       "    }\n",
       "\n",
       "    .dataframe tbody tr th {\n",
       "        vertical-align: top;\n",
       "    }\n",
       "\n",
       "    .dataframe thead th {\n",
       "        text-align: right;\n",
       "    }\n",
       "</style>\n",
       "<table border=\"1\" class=\"dataframe\">\n",
       "  <thead>\n",
       "    <tr style=\"text-align: right;\">\n",
       "      <th></th>\n",
       "      <th>product_name</th>\n",
       "      <th>product_brand</th>\n",
       "      <th>actual_price</th>\n",
       "      <th>selling_price</th>\n",
       "      <th>product_link</th>\n",
       "    </tr>\n",
       "  </thead>\n",
       "  <tbody>\n",
       "    <tr>\n",
       "      <th>0</th>\n",
       "      <td>Men Dyed Casual Mandarin Shirt</td>\n",
       "      <td>Pepe Jeans</td>\n",
       "      <td>₹2,199</td>\n",
       "      <td>₹1,319</td>\n",
       "      <td>flipkart.com/pepe-jeans-men-dyed-casual-white-...</td>\n",
       "    </tr>\n",
       "    <tr>\n",
       "      <th>1</th>\n",
       "      <td>Men Self Design Casual Button Down Shirt</td>\n",
       "      <td>IndoPrimo</td>\n",
       "      <td>₹999</td>\n",
       "      <td>₹649</td>\n",
       "      <td>flipkart.com/indoprimo-men-self-design-casual-...</td>\n",
       "    </tr>\n",
       "    <tr>\n",
       "      <th>2</th>\n",
       "      <td>Men Checkered Casual Hood Shirt</td>\n",
       "      <td>Highlander</td>\n",
       "      <td>₹999</td>\n",
       "      <td>₹1,449</td>\n",
       "      <td>flipkart.com/highlander-men-checkered-casual-m...</td>\n",
       "    </tr>\n",
       "    <tr>\n",
       "      <th>3</th>\n",
       "      <td>Men Solid Casual Mandarin Shirt</td>\n",
       "      <td>Highlander</td>\n",
       "      <td>₹1,399</td>\n",
       "      <td>₹519</td>\n",
       "      <td>flipkart.com/highlander-men-solid-casual-blue-...</td>\n",
       "    </tr>\n",
       "    <tr>\n",
       "      <th>4</th>\n",
       "      <td>Men Color Block Casual Shirt</td>\n",
       "      <td>Tripr</td>\n",
       "      <td>₹1,499</td>\n",
       "      <td>₹589</td>\n",
       "      <td>flipkart.com/tripr-men-color-block-casual-whit...</td>\n",
       "    </tr>\n",
       "  </tbody>\n",
       "</table>\n",
       "</div>"
      ],
      "text/plain": [
       "                               product_name product_brand actual_price  \\\n",
       "0            Men Dyed Casual Mandarin Shirt    Pepe Jeans       ₹2,199   \n",
       "1  Men Self Design Casual Button Down Shirt     IndoPrimo         ₹999   \n",
       "2           Men Checkered Casual Hood Shirt    Highlander         ₹999   \n",
       "3           Men Solid Casual Mandarin Shirt    Highlander       ₹1,399   \n",
       "4              Men Color Block Casual Shirt         Tripr       ₹1,499   \n",
       "\n",
       "  selling_price                                       product_link  \n",
       "0        ₹1,319  flipkart.com/pepe-jeans-men-dyed-casual-white-...  \n",
       "1          ₹649  flipkart.com/indoprimo-men-self-design-casual-...  \n",
       "2        ₹1,449  flipkart.com/highlander-men-checkered-casual-m...  \n",
       "3          ₹519  flipkart.com/highlander-men-solid-casual-blue-...  \n",
       "4          ₹589  flipkart.com/tripr-men-color-block-casual-whit...  "
      ]
     },
     "execution_count": 63,
     "metadata": {},
     "output_type": "execute_result"
    }
   ],
   "source": [
    "df.head()"
   ]
  },
  {
   "cell_type": "markdown",
   "metadata": {},
   "source": [
    "#### Writing the scraped data to a CSV file"
   ]
  },
  {
   "cell_type": "code",
   "execution_count": 74,
   "metadata": {},
   "outputs": [],
   "source": [
    "df.to_csv('flipkart_web_scraping.csv',index=False)"
   ]
  },
  {
   "cell_type": "markdown",
   "metadata": {},
   "source": [
    "##### Created By - Maninder Singh Bakshi"
   ]
  }
 ],
 "metadata": {
  "kernelspec": {
   "display_name": "Python 3",
   "language": "python",
   "name": "python3"
  },
  "language_info": {
   "codemirror_mode": {
    "name": "ipython",
    "version": 3
   },
   "file_extension": ".py",
   "mimetype": "text/x-python",
   "name": "python",
   "nbconvert_exporter": "python",
   "pygments_lexer": "ipython3",
   "version": "3.7.6"
  }
 },
 "nbformat": 4,
 "nbformat_minor": 4
}
