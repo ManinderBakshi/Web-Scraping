{
 "cells": [
  {
   "cell_type": "markdown",
   "metadata": {},
   "source": [
    "# Web Scraping using \"Beautiful Soup\" and \"Request Module\"\n",
    "\n",
    "### Scraping Website = Gofresh Enterprices\n",
    "##### Link -https://www.gofresh-anupam-enterprises.com"
   ]
  },
  {
   "cell_type": "markdown",
   "metadata": {},
   "source": [
    "### Let's import All the necessary Packages"
   ]
  },
  {
   "cell_type": "code",
   "execution_count": 18,
   "metadata": {},
   "outputs": [],
   "source": [
    "import pandas as pd\n",
    "import numpy as np\n",
    "from bs4 import BeautifulSoup\n",
    "from urllib.request import urlopen \n",
    "import requests"
   ]
  },
  {
   "cell_type": "markdown",
   "metadata": {},
   "source": [
    "### Now let's request the HTML from the URL"
   ]
  },
  {
   "cell_type": "code",
   "execution_count": 19,
   "metadata": {},
   "outputs": [],
   "source": [
    "headers_std = {\n",
    "'User-Agent': 'Mozilla/5.0 (Windows NT 6.1; WOW64) AppleWebKit/537.36 (KHTML, like Gecko) Chrome/46.0.2490.80 Safari/537.36',\n",
    "'Content-Type': 'text/html',\n",
    "}\n",
    "\n",
    "url = \"https://www.gofresh-anupam-enterprises.com/\"\n",
    "html = requests.get(url,headers=headers_std).text"
   ]
  },
  {
   "cell_type": "markdown",
   "metadata": {},
   "source": [
    "### Okay, Now we will create an object of Beautiful Soup class and pass the HTML data to the created object"
   ]
  },
  {
   "cell_type": "code",
   "execution_count": 20,
   "metadata": {},
   "outputs": [],
   "source": [
    "soup = BeautifulSoup(html,'lxml')"
   ]
  },
  {
   "cell_type": "markdown",
   "metadata": {},
   "source": [
    "#### After getting an idea of the structure of the webpage , now we will set the variables to the class names of the data we want to scrap"
   ]
  },
  {
   "cell_type": "code",
   "execution_count": 4,
   "metadata": {},
   "outputs": [],
   "source": [
    "product_class = \"_2BULo\"\n",
    "discount_price_class = \"product-item-price-to-pay\" \n",
    "actual_price_class = \"product-item-price-before-discount\"\n",
    "#image_class = \"false\"\n",
    "product_link_class = \"_34sIs\""
   ]
  },
  {
   "cell_type": "markdown",
   "metadata": {},
   "source": [
    "#### Now we will scrap all the required data from the webpage using the Beautiful Soup object"
   ]
  },
  {
   "cell_type": "code",
   "execution_count": 5,
   "metadata": {},
   "outputs": [],
   "source": [
    "product_names = soup.find_all(\"h3\", {\"class\":product_class})\n",
    "actual_product_prices = soup.find_all(\"span\",{\"data-hook\":actual_price_class})\n",
    "discounted_product_prices = soup.find_all(\"span\",{\"data-hook\":discount_price_class})\n",
    "#images = soup.find_all(\"img\",{\"aria-hidden\":image_class})\n",
    "product_links = soup.find_all('a',{'class':product_link_class})"
   ]
  },
  {
   "cell_type": "markdown",
   "metadata": {},
   "source": [
    "#### Let us check for any product in our scraped data"
   ]
  },
  {
   "cell_type": "code",
   "execution_count": 6,
   "metadata": {},
   "outputs": [
    {
     "name": "stdout",
     "output_type": "stream",
     "text": [
      "Go Cheese Plain Spread, 200g (soft and creamy)\n",
      "₹120.00\n",
      "₹105.00\n",
      "https://www.gofresh-anupam-enterprises.com/product-page/go-cheese-plain-spread-200g-soft-and-creamy\n"
     ]
    }
   ],
   "source": [
    "print(product_names[0].text.strip())\n",
    "print(actual_product_prices[0].text.strip())\n",
    "print(discounted_product_prices[0].text.strip())\n",
    "#print(images[0].get('src').strip())\n",
    "print( product_links[0].get('href').strip())"
   ]
  },
  {
   "cell_type": "markdown",
   "metadata": {},
   "source": [
    "#### Great! \n",
    "#### Before creating the data frames , first let's check the length of all the columns which we have scraped"
   ]
  },
  {
   "cell_type": "code",
   "execution_count": 7,
   "metadata": {},
   "outputs": [
    {
     "name": "stdout",
     "output_type": "stream",
     "text": [
      "36\n",
      "33\n",
      "36\n",
      "36\n"
     ]
    }
   ],
   "source": [
    "print(len(product_names))\n",
    "print(len(actual_product_prices))\n",
    "print(len(discounted_product_prices))\n",
    "print(len(product_links))"
   ]
  },
  {
   "cell_type": "markdown",
   "metadata": {},
   "source": [
    "#### Now let's create the dataframes and insert our data into them , for blank entries we will just append None"
   ]
  },
  {
   "cell_type": "code",
   "execution_count": 10,
   "metadata": {},
   "outputs": [],
   "source": [
    "product_names_df = []\n",
    "actual_prices_df = []\n",
    "discounted_prices_df = []\n",
    "product_links_df = []"
   ]
  },
  {
   "cell_type": "code",
   "execution_count": 11,
   "metadata": {},
   "outputs": [],
   "source": [
    "for i in range(len(product_names)):\n",
    " \n",
    "    \n",
    "    \n",
    "        product_names_df.append(product_names[i].text.strip())\n",
    "        discounted_prices_df.append(discounted_product_prices[i].text.strip())\n",
    "        product_links_df.append(product_links[i].get('href').strip())\n",
    "        try:\n",
    "            actual_prices_df.append(actual_product_prices[i].text.strip())\n",
    "        except:\n",
    "             actual_prices_df.append(None)"
   ]
  },
  {
   "cell_type": "markdown",
   "metadata": {},
   "source": [
    "#### Let's join these dataframes into a single one"
   ]
  },
  {
   "cell_type": "code",
   "execution_count": 21,
   "metadata": {},
   "outputs": [],
   "source": [
    "df = pd.DataFrame({'product_name':product_names_df,'actual_price':actual_prices_df,'discounted_price':discounted_prices_df,'product_link':product_links_df})"
   ]
  },
  {
   "cell_type": "code",
   "execution_count": 22,
   "metadata": {},
   "outputs": [
    {
     "data": {
      "text/html": [
       "<div>\n",
       "<style scoped>\n",
       "    .dataframe tbody tr th:only-of-type {\n",
       "        vertical-align: middle;\n",
       "    }\n",
       "\n",
       "    .dataframe tbody tr th {\n",
       "        vertical-align: top;\n",
       "    }\n",
       "\n",
       "    .dataframe thead th {\n",
       "        text-align: right;\n",
       "    }\n",
       "</style>\n",
       "<table border=\"1\" class=\"dataframe\">\n",
       "  <thead>\n",
       "    <tr style=\"text-align: right;\">\n",
       "      <th></th>\n",
       "      <th>product_name</th>\n",
       "      <th>actual_price</th>\n",
       "      <th>discounted_price</th>\n",
       "      <th>product_link</th>\n",
       "    </tr>\n",
       "  </thead>\n",
       "  <tbody>\n",
       "    <tr>\n",
       "      <th>0</th>\n",
       "      <td>Go Cheese Plain Spread, 200g (soft and creamy)</td>\n",
       "      <td>₹120.00</td>\n",
       "      <td>₹105.00</td>\n",
       "      <td>https://www.gofresh-anupam-enterprises.com/pro...</td>\n",
       "    </tr>\n",
       "    <tr>\n",
       "      <th>1</th>\n",
       "      <td>GO CHEESE CUBES 200GM</td>\n",
       "      <td>₹125.00</td>\n",
       "      <td>₹112.50</td>\n",
       "      <td>https://www.gofresh-anupam-enterprises.com/pro...</td>\n",
       "    </tr>\n",
       "    <tr>\n",
       "      <th>2</th>\n",
       "      <td>GO CHEESE SLICE 200GM</td>\n",
       "      <td>₹145.00</td>\n",
       "      <td>₹130.50</td>\n",
       "      <td>https://www.gofresh-anupam-enterprises.com/pro...</td>\n",
       "    </tr>\n",
       "    <tr>\n",
       "      <th>3</th>\n",
       "      <td>FROZEN VEG SOY CHAP, 500gm</td>\n",
       "      <td>₹150.00</td>\n",
       "      <td>₹85.00</td>\n",
       "      <td>https://www.gofresh-anupam-enterprises.com/pro...</td>\n",
       "    </tr>\n",
       "    <tr>\n",
       "      <th>4</th>\n",
       "      <td>Go Cheese Plain Spread, 200g (soft and creamy)</td>\n",
       "      <td>₹120.00</td>\n",
       "      <td>₹105.00</td>\n",
       "      <td>https://www.gofresh-anupam-enterprises.com/pro...</td>\n",
       "    </tr>\n",
       "  </tbody>\n",
       "</table>\n",
       "</div>"
      ],
      "text/plain": [
       "                                     product_name actual_price  \\\n",
       "0  Go Cheese Plain Spread, 200g (soft and creamy)      ₹120.00   \n",
       "1                           GO CHEESE CUBES 200GM      ₹125.00   \n",
       "2                           GO CHEESE SLICE 200GM      ₹145.00   \n",
       "3                      FROZEN VEG SOY CHAP, 500gm      ₹150.00   \n",
       "4  Go Cheese Plain Spread, 200g (soft and creamy)      ₹120.00   \n",
       "\n",
       "  discounted_price                                       product_link  \n",
       "0          ₹105.00  https://www.gofresh-anupam-enterprises.com/pro...  \n",
       "1          ₹112.50  https://www.gofresh-anupam-enterprises.com/pro...  \n",
       "2          ₹130.50  https://www.gofresh-anupam-enterprises.com/pro...  \n",
       "3           ₹85.00  https://www.gofresh-anupam-enterprises.com/pro...  \n",
       "4          ₹105.00  https://www.gofresh-anupam-enterprises.com/pro...  "
      ]
     },
     "execution_count": 22,
     "metadata": {},
     "output_type": "execute_result"
    }
   ],
   "source": [
    "df.head()"
   ]
  },
  {
   "cell_type": "markdown",
   "metadata": {},
   "source": [
    "#### Writing the scraped data to a CSV file"
   ]
  },
  {
   "cell_type": "code",
   "execution_count": 24,
   "metadata": {},
   "outputs": [],
   "source": [
    "df.to_csv('web_scraping.csv',index=False)"
   ]
  },
  {
   "cell_type": "markdown",
   "metadata": {},
   "source": [
    "##### Created By - Maninder Singh Bakshi"
   ]
  }
 ],
 "metadata": {
  "kernelspec": {
   "display_name": "Python 3",
   "language": "python",
   "name": "python3"
  },
  "language_info": {
   "codemirror_mode": {
    "name": "ipython",
    "version": 3
   },
   "file_extension": ".py",
   "mimetype": "text/x-python",
   "name": "python",
   "nbconvert_exporter": "python",
   "pygments_lexer": "ipython3",
   "version": "3.7.6"
  }
 },
 "nbformat": 4,
 "nbformat_minor": 4
}
